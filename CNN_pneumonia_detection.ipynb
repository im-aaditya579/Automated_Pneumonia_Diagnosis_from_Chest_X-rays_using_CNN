{
  "nbformat": 4,
  "nbformat_minor": 0,
  "metadata": {
    "colab": {
      "provenance": []
    },
    "kernelspec": {
      "name": "python3",
      "display_name": "Python 3"
    },
    "language_info": {
      "name": "python"
    }
  },
  "cells": [
    {
      "cell_type": "code",
      "execution_count": null,
      "metadata": {
        "id": "hmjQLAbioHuR"
      },
      "outputs": [],
      "source": [
        "from keras.layers import Input, Lambda, Dense, Flatten\n",
        "from keras.models import Model\n",
        "from keras.applications.vgg16 import VGG16\n",
        "from keras.applications.vgg16 import preprocess_input\n",
        "from keras.preprocessing import image\n",
        "from keras.preprocessing.image import ImageDataGenerator\n",
        "from keras.models import Sequential\n",
        "import tensorflow as tf\n",
        "import numpy as np\n",
        "from glob import glob\n",
        "import matplotlib.pyplot as plt\n",
        "from keras import optimizers\n",
        "import os\n",
        "import cv2\n",
        "from sklearn import metrics\n",
        "import warnings\n",
        "from datetime import datetime\n",
        "from keras.callbacks import ModelCheckpoint\n",
        "from sklearn.metrics import precision_score, recall_score, confusion_matrix\n",
        "from sklearn.metrics import classification_report\n",
        "warnings.filterwarnings(\"ignore\", category=FutureWarning)\n",
        "import pickle"
      ]
    },
    {
      "cell_type": "code",
      "source": [
        "IMAGE_SIZE = [224, 224]"
      ],
      "metadata": {
        "id": "zD2M0lOjodNg"
      },
      "execution_count": null,
      "outputs": []
    },
    {
      "cell_type": "code",
      "source": [
        "from google.colab import drive\n",
        "drive.mount('/content/drive')"
      ],
      "metadata": {
        "id": "ca_5egq3ofF4",
        "colab": {
          "base_uri": "https://localhost:8080/"
        },
        "outputId": "fc3922e0-cbac-4ccb-9e61-badeb3ff8c60"
      },
      "execution_count": null,
      "outputs": [
        {
          "output_type": "stream",
          "name": "stdout",
          "text": [
            "Mounted at /content/drive\n"
          ]
        }
      ]
    },
    {
      "cell_type": "code",
      "source": [
        "labels = ['PNEUMONIA', 'NORMAL']\n",
        "img_size = 150\n",
        "def get_training_data(data_dir):\n",
        "  data = []\n",
        "  for label in labels:\n",
        "    path = os.path.join(data_dir, label)\n",
        "    class_num = labels.index(label)\n",
        "    for img in os.listdir(path):\n",
        "        try:\n",
        "            img_arr = cv2.imread(os.path.join(path, img), cv2.IMREAD_GRAYSCALE)\n",
        "            resized_arr = cv2.resize(img_arr, (img_size, img_size)) # Reshaping images to preferred size\n",
        "            data.append([resized_arr, class_num])\n",
        "        except Exception as e:\n",
        "            print(e)\n",
        "  return np.array(data)"
      ],
      "metadata": {
        "id": "ng3clnkA4Of0"
      },
      "execution_count": null,
      "outputs": []
    },
    {
      "cell_type": "code",
      "source": [
        "train_path = '/content/drive/MyDrive/chest_xray/train'\n",
        "test_path = '/content/drive/MyDrive/chest_xray/test'"
      ],
      "metadata": {
        "id": "Fq9GStmnopnX"
      },
      "execution_count": null,
      "outputs": []
    },
    {
      "cell_type": "code",
      "source": [
        "test_ds = get_training_data('/content/drive/MyDrive/X-ray dataset/chest_xray/test')\n",
        "train_ds = get_training_data('/content/drive/MyDrive/X-ray dataset/chest_xray/train')\n",
        "val_ds = get_training_data('/content/drive/MyDrive/X-ray dataset/chest_xray/val')"
      ],
      "metadata": {
        "id": "K_UU-Gzu2exd",
        "colab": {
          "base_uri": "https://localhost:8080/"
        },
        "outputId": "f63e126a-61e6-4110-f34b-72353e4cee23"
      },
      "execution_count": null,
      "outputs": [
        {
          "output_type": "stream",
          "name": "stderr",
          "text": [
            "<ipython-input-4-4ef29edd5fc4>:15: VisibleDeprecationWarning: Creating an ndarray from ragged nested sequences (which is a list-or-tuple of lists-or-tuples-or ndarrays with different lengths or shapes) is deprecated. If you meant to do this, you must specify 'dtype=object' when creating the ndarray.\n",
            "  return np.array(data)\n"
          ]
        }
      ]
    },
    {
      "cell_type": "code",
      "source": [
        "x_train = []\n",
        "y_train = []\n",
        "\n",
        "x_test = []\n",
        "y_test = []\n",
        "\n",
        "x_val = []\n",
        "y_val = []\n",
        "\n",
        "for feature, label in train_ds:\n",
        "  x_train.append(feature)\n",
        "  y_train.append(label)\n",
        "\n",
        "for feature, label in test_ds:\n",
        "  x_test.append(feature)\n",
        "  y_test.append(label)\n",
        "\n",
        "for feature, label in val_ds:\n",
        "    x_val.append(feature)\n",
        "    y_val.append(label)"
      ],
      "metadata": {
        "id": "ITIcn6eZ247X"
      },
      "execution_count": null,
      "outputs": []
    },
    {
      "cell_type": "code",
      "source": [
        "x_train = np.array(x_train) / 255\n",
        "x_test = np.array(x_test) / 255\n",
        "x_val = np.array(x_val) / 255"
      ],
      "metadata": {
        "id": "7yX7VePNKw8l"
      },
      "execution_count": null,
      "outputs": []
    },
    {
      "cell_type": "code",
      "source": [
        "x_train = x_train.reshape(-1, img_size, img_size, 1)\n",
        "y_train = np.array(y_train)\n",
        "\n",
        "x_test = x_test.reshape(-1, img_size, img_size, 1)\n",
        "y_test = np.array(y_test)\n",
        "\n",
        "x_val = x_val.reshape(-1, img_size, img_size, 1)\n",
        "y_val = np.array(y_val)"
      ],
      "metadata": {
        "id": "nd0fTvXQK0oI"
      },
      "execution_count": null,
      "outputs": []
    },
    {
      "cell_type": "markdown",
      "source": [
        "CNN:"
      ],
      "metadata": {
        "id": "B3GL4cvOQH4m"
      }
    },
    {
      "cell_type": "code",
      "source": [
        "model = Sequential()\n",
        "model.add(tf.keras.layers.Convolution2D(32 , (3,3) , strides = 1 , padding = 'same' , activation = 'relu' , input_shape = (150,150,1)))\n",
        "model.add(tf.keras.layers.BatchNormalization())\n",
        "model.add(tf.keras.layers.MaxPooling2D((2,2) , strides = 2 , padding = 'same'))\n",
        "model.add(tf.keras.layers.Convolution2D(64 , (3,3) , strides = 1 , padding = 'same' , activation = 'relu'))\n",
        "model.add(tf.keras.layers.Dropout(0.1))\n",
        "model.add(tf.keras.layers.BatchNormalization())\n",
        "model.add(tf.keras.layers.MaxPooling2D((2,2) , strides = 2 , padding = 'same'))\n",
        "model.add(tf.keras.layers.Convolution2D(64 , (3,3) , strides = 1 , padding = 'same' , activation = 'relu'))\n",
        "model.add(tf.keras.layers.BatchNormalization())\n",
        "model.add(tf.keras.layers.MaxPooling2D((2,2) , strides = 2 , padding = 'same'))\n",
        "model.add(tf.keras.layers.Convolution2D(128 , (3,3) , strides = 1 , padding = 'same' , activation = 'relu'))\n",
        "model.add(tf.keras.layers.Dropout(0.2))\n",
        "model.add(tf.keras.layers.BatchNormalization())\n",
        "model.add(tf.keras.layers.MaxPooling2D((2,2) , strides = 2 , padding = 'same'))\n",
        "model.add(tf.keras.layers.Convolution2D(256 , (3,3) , strides = 1 , padding = 'same' , activation = 'relu'))\n",
        "model.add(tf.keras.layers.Dropout(0.2))\n",
        "model.add(tf.keras.layers.BatchNormalization())\n",
        "model.add(tf.keras.layers.MaxPooling2D((2,2) , strides = 2 , padding = 'same'))\n",
        "model.add(tf.keras.layers.Flatten())\n",
        "model.add(Dense(units = 128 , activation = 'relu'))\n",
        "model.add(tf.keras.layers.Dropout(0.2))\n",
        "model.add(Dense(units = 1 , activation = 'sigmoid'))\n",
        "model.compile(optimizer = \"rmsprop\" , loss = 'binary_crossentropy' , metrics = ['accuracy'])"
      ],
      "metadata": {
        "id": "DFOrVKTUD1J7"
      },
      "execution_count": null,
      "outputs": []
    },
    {
      "cell_type": "code",
      "source": [
        "model.summary()"
      ],
      "metadata": {
        "id": "GGFyO_NFD3mo",
        "colab": {
          "base_uri": "https://localhost:8080/"
        },
        "outputId": "7f202479-a3c9-4853-ff3f-954c09af1ca5"
      },
      "execution_count": null,
      "outputs": [
        {
          "output_type": "stream",
          "name": "stdout",
          "text": [
            "Model: \"sequential\"\n",
            "_________________________________________________________________\n",
            " Layer (type)                Output Shape              Param #   \n",
            "=================================================================\n",
            " conv2d (Conv2D)             (None, 150, 150, 32)      320       \n",
            "                                                                 \n",
            " batch_normalization (Batch  (None, 150, 150, 32)      128       \n",
            " Normalization)                                                  \n",
            "                                                                 \n",
            " max_pooling2d (MaxPooling2  (None, 75, 75, 32)        0         \n",
            " D)                                                              \n",
            "                                                                 \n",
            " conv2d_1 (Conv2D)           (None, 75, 75, 64)        18496     \n",
            "                                                                 \n",
            " dropout (Dropout)           (None, 75, 75, 64)        0         \n",
            "                                                                 \n",
            " batch_normalization_1 (Bat  (None, 75, 75, 64)        256       \n",
            " chNormalization)                                                \n",
            "                                                                 \n",
            " max_pooling2d_1 (MaxPoolin  (None, 38, 38, 64)        0         \n",
            " g2D)                                                            \n",
            "                                                                 \n",
            " conv2d_2 (Conv2D)           (None, 38, 38, 64)        36928     \n",
            "                                                                 \n",
            " batch_normalization_2 (Bat  (None, 38, 38, 64)        256       \n",
            " chNormalization)                                                \n",
            "                                                                 \n",
            " max_pooling2d_2 (MaxPoolin  (None, 19, 19, 64)        0         \n",
            " g2D)                                                            \n",
            "                                                                 \n",
            " conv2d_3 (Conv2D)           (None, 19, 19, 128)       73856     \n",
            "                                                                 \n",
            " dropout_1 (Dropout)         (None, 19, 19, 128)       0         \n",
            "                                                                 \n",
            " batch_normalization_3 (Bat  (None, 19, 19, 128)       512       \n",
            " chNormalization)                                                \n",
            "                                                                 \n",
            " max_pooling2d_3 (MaxPoolin  (None, 10, 10, 128)       0         \n",
            " g2D)                                                            \n",
            "                                                                 \n",
            " conv2d_4 (Conv2D)           (None, 10, 10, 256)       295168    \n",
            "                                                                 \n",
            " dropout_2 (Dropout)         (None, 10, 10, 256)       0         \n",
            "                                                                 \n",
            " batch_normalization_4 (Bat  (None, 10, 10, 256)       1024      \n",
            " chNormalization)                                                \n",
            "                                                                 \n",
            " max_pooling2d_4 (MaxPoolin  (None, 5, 5, 256)         0         \n",
            " g2D)                                                            \n",
            "                                                                 \n",
            " flatten (Flatten)           (None, 6400)              0         \n",
            "                                                                 \n",
            " dense (Dense)               (None, 128)               819328    \n",
            "                                                                 \n",
            " dropout_3 (Dropout)         (None, 128)               0         \n",
            "                                                                 \n",
            " dense_1 (Dense)             (None, 1)                 129       \n",
            "                                                                 \n",
            "=================================================================\n",
            "Total params: 1246401 (4.75 MB)\n",
            "Trainable params: 1245313 (4.75 MB)\n",
            "Non-trainable params: 1088 (4.25 KB)\n",
            "_________________________________________________________________\n"
          ]
        }
      ]
    },
    {
      "cell_type": "code",
      "source": [
        "tf.keras.utils.plot_model(\n",
        "    model,\n",
        "    to_file=\"model.png\",\n",
        "    show_shapes=False,\n",
        "    show_dtype=False,\n",
        "    show_layer_names=True,\n",
        "    rankdir=\"TB\",\n",
        "    expand_nested=False,\n",
        "    dpi=96,\n",
        "    layer_range=None,\n",
        "    show_layer_activations=False,\n",
        "    show_trainable=False,\n",
        ")"
      ],
      "metadata": {
        "id": "DCMh6KBBvr0S",
        "colab": {
          "base_uri": "https://localhost:8080/",
          "height": 1000
        },
        "outputId": "8af33189-da77-491f-8bfb-55a0ba64ab3b"
      },
      "execution_count": null,
      "outputs": [
        {
          "output_type": "execute_result",
          "data": {
            "image/png": "[encoded data removed]",
            "text/plain": [
              "<IPython.core.display.Image object>"
            ]
          },
          "metadata": {},
          "execution_count": 15
        }
      ]
    },
    {
      "cell_type": "code",
      "source": [
        "from keras.preprocessing.image import ImageDataGenerator\n",
        "batch_size = 32\n",
        "input_size = (150,150)\n",
        "\n",
        "datagen = ImageDataGenerator(\n",
        "        featurewise_center=False,  # set input mean to 0 over the dataset\n",
        "        samplewise_center=False,  # set each sample mean to 0\n",
        "        featurewise_std_normalization=False,  # divide inputs by std of the dataset\n",
        "        samplewise_std_normalization=False,  # divide each input by its std\n",
        "        zca_whitening=False,  # apply ZCA whitening\n",
        "        rotation_range = 30,  # randomly rotate images in the range (degrees, 0 to 180)\n",
        "        zoom_range = 0.2, # Randomly zoom image\n",
        "        width_shift_range=0.1,  # randomly shift images horizontally (fraction of total width)\n",
        "        height_shift_range=0.1,  # randomly shift images vertically (fraction of total height)\n",
        "        horizontal_flip = True,  # randomly flip images\n",
        "        vertical_flip=False)  # randomly flip images\n",
        "\n",
        "\n",
        "datagen.fit(x_train)\n",
        "\n",
        "# fit the cnn model to the trainig set and testing it on the test set\n",
        "model.fit(datagen.flow(x_train,y_train, batch_size = 32) ,epochs = 12 , validation_data = datagen.flow(x_val, y_val))"
      ],
      "metadata": {
        "id": "A8ul_X8lTghA",
        "outputId": "a0c398b9-9cf1-4208-b57a-04595846cf2f",
        "colab": {
          "base_uri": "https://localhost:8080/"
        }
      },
      "execution_count": null,
      "outputs": [
        {
          "output_type": "stream",
          "name": "stdout",
          "text": [
            "Epoch 1/12\n",
            "164/164 [==============================] - 355s 2s/step - loss: 0.5365 - accuracy: 0.8467 - val_loss: 7.5761 - val_accuracy: 0.5000\n",
            "Epoch 2/12\n",
            "164/164 [==============================] - 350s 2s/step - loss: 0.2703 - accuracy: 0.8928 - val_loss: 33.2250 - val_accuracy: 0.5000\n",
            "Epoch 3/12\n",
            "164/164 [==============================] - 356s 2s/step - loss: 0.2172 - accuracy: 0.9238 - val_loss: 2.2400 - val_accuracy: 0.8125\n",
            "Epoch 4/12\n",
            "164/164 [==============================] - 355s 2s/step - loss: 0.2002 - accuracy: 0.9303 - val_loss: 0.7726 - val_accuracy: 0.5625\n",
            "Epoch 5/12\n",
            "164/164 [==============================] - 351s 2s/step - loss: 0.1888 - accuracy: 0.9377 - val_loss: 20.1304 - val_accuracy: 0.5625\n",
            "Epoch 6/12\n",
            "164/164 [==============================] - 359s 2s/step - loss: 0.1747 - accuracy: 0.9385 - val_loss: 9.4176 - val_accuracy: 0.5000\n",
            "Epoch 7/12\n",
            "164/164 [==============================] - 354s 2s/step - loss: 0.1601 - accuracy: 0.9494 - val_loss: 0.7427 - val_accuracy: 0.6875\n",
            "Epoch 8/12\n",
            "164/164 [==============================] - 353s 2s/step - loss: 0.1601 - accuracy: 0.9455 - val_loss: 41.8425 - val_accuracy: 0.5000\n",
            "Epoch 9/12\n",
            "164/164 [==============================] - 353s 2s/step - loss: 0.1558 - accuracy: 0.9480 - val_loss: 0.5407 - val_accuracy: 0.6250\n",
            "Epoch 10/12\n",
            "164/164 [==============================] - 354s 2s/step - loss: 0.1402 - accuracy: 0.9513 - val_loss: 2.4695 - val_accuracy: 0.5000\n",
            "Epoch 11/12\n",
            "164/164 [==============================] - 343s 2s/step - loss: 0.1370 - accuracy: 0.9539 - val_loss: 0.9706 - val_accuracy: 0.4375\n",
            "Epoch 12/12\n",
            "164/164 [==============================] - 351s 2s/step - loss: 0.1175 - accuracy: 0.9583 - val_loss: 1.1121 - val_accuracy: 0.5625\n"
          ]
        },
        {
          "output_type": "execute_result",
          "data": {
            "text/plain": [
              "<keras.src.callbacks.History at 0x7f4addccbee0>"
            ]
          },
          "metadata": {},
          "execution_count": 16
        }
      ]
    },
    {
      "cell_type": "markdown",
      "source": [
        "Test Results:"
      ],
      "metadata": {
        "id": "zpPFYlPn1ROC"
      }
    },
    {
      "cell_type": "code",
      "source": [
        "model.save('final_cnn1.h5')"
      ],
      "metadata": {
        "colab": {
          "base_uri": "https://localhost:8080/"
        },
        "id": "V1pXPXWexdxg",
        "outputId": "fe977670-023c-4733-9710-ed46f6abb164"
      },
      "execution_count": null,
      "outputs": [
        {
          "output_type": "stream",
          "name": "stderr",
          "text": [
            "/usr/local/lib/python3.10/dist-packages/keras/src/engine/training.py:3000: UserWarning: You are saving your model as an HDF5 file via `model.save()`. This file format is considered legacy. We recommend using instead the native Keras format, e.g. `model.save('my_model.keras')`.\n",
            "  saving_api.save_model(\n"
          ]
        }
      ]
    },
    {
      "cell_type": "code",
      "source": [
        "# pickle.dump(model, open('final_cnn1.h5','wb'))"
      ],
      "metadata": {
        "id": "MwFoY5xexlVO"
      },
      "execution_count": null,
      "outputs": []
    },
    {
      "cell_type": "code",
      "source": [
        "# pickle.dump(model, open('final_cnn.pkl','wb'))"
      ],
      "metadata": {
        "id": "LlD85hhV_yO8"
      },
      "execution_count": null,
      "outputs": []
    },
    {
      "cell_type": "code",
      "source": [
        "model = pickle.load(open('/content/drive/MyDrive/final_cnn.pkl', 'rb'))"
      ],
      "metadata": {
        "id": "5IEjegb_ALlS"
      },
      "execution_count": null,
      "outputs": []
    },
    {
      "cell_type": "code",
      "source": [
        "x_test[0].shape"
      ],
      "metadata": {
        "colab": {
          "base_uri": "https://localhost:8080/"
        },
        "id": "VnNKJBjHIb62",
        "outputId": "b70cdfc5-f99d-4a7a-fa27-a6ee62e1e918"
      },
      "execution_count": null,
      "outputs": [
        {
          "output_type": "execute_result",
          "data": {
            "text/plain": [
              "(150, 150, 1)"
            ]
          },
          "metadata": {},
          "execution_count": 34
        }
      ]
    },
    {
      "cell_type": "code",
      "source": [
        "preds = model.predict(x_test)\n",
        "#preds = preds.reshape(1,-1)[0]"
      ],
      "metadata": {
        "id": "lT5oOKBoxgSf",
        "colab": {
          "base_uri": "https://localhost:8080/"
        },
        "outputId": "4e2da7e9-4911-4670-cb5e-b23a35c5cca8"
      },
      "execution_count": null,
      "outputs": [
        {
          "output_type": "stream",
          "name": "stdout",
          "text": [
            "20/20 [==============================] - 10s 488ms/step\n"
          ]
        }
      ]
    },
    {
      "cell_type": "code",
      "source": [
        "y_pred_test = np.empty_like(preds)\n",
        "y_pred_test[:] = (preds[:] > 0.5) * 1"
      ],
      "metadata": {
        "id": "zNzTuuCVrZua"
      },
      "execution_count": null,
      "outputs": []
    },
    {
      "cell_type": "code",
      "source": [
        "print(classification_report(y_test, y_pred_test, target_names = ['Pneumonia (Class 0)','Normal (Class 1)']))"
      ],
      "metadata": {
        "id": "yPhIKfi81vTQ",
        "colab": {
          "base_uri": "https://localhost:8080/"
        },
        "outputId": "a82a406b-f128-4d77-93da-d338ce60a376"
      },
      "execution_count": null,
      "outputs": [
        {
          "output_type": "stream",
          "name": "stdout",
          "text": [
            "                     precision    recall  f1-score   support\n",
            "\n",
            "Pneumonia (Class 0)       0.85      0.98      0.91       390\n",
            "   Normal (Class 1)       0.95      0.72      0.82       234\n",
            "\n",
            "           accuracy                           0.88       624\n",
            "          macro avg       0.90      0.85      0.86       624\n",
            "       weighted avg       0.89      0.88      0.88       624\n",
            "\n"
          ]
        }
      ]
    },
    {
      "cell_type": "code",
      "source": [
        "print(confusion_matrix(y_test, y_pred_test))"
      ],
      "metadata": {
        "id": "7nTFf5kztfTz",
        "colab": {
          "base_uri": "https://localhost:8080/"
        },
        "outputId": "a8be13b3-72a2-4084-a1c6-bf6433671a07"
      },
      "execution_count": null,
      "outputs": [
        {
          "output_type": "stream",
          "name": "stdout",
          "text": [
            "[[381   9]\n",
            " [ 66 168]]\n"
          ]
        }
      ]
    },
    {
      "cell_type": "code",
      "source": [
        "fpr, tpr, _ = metrics.roc_curve(y_test, preds)"
      ],
      "metadata": {
        "id": "40WztnAMvihc"
      },
      "execution_count": null,
      "outputs": []
    },
    {
      "cell_type": "code",
      "source": [
        "plt.plot(fpr,tpr)\n",
        "plt.title(\"ROC Curve\")\n",
        "plt.ylabel('True Positive Rate')\n",
        "plt.xlabel('False Positive Rate')\n",
        "plt.show()"
      ],
      "metadata": {
        "id": "402l2HxkwL-j",
        "colab": {
          "base_uri": "https://localhost:8080/",
          "height": 472
        },
        "outputId": "a3db9800-79c7-4bbb-ee83-63dbad7b61ea"
      },
      "execution_count": null,
      "outputs": [
        {
          "output_type": "display_data",
          "data": {
            "text/plain": [
              "<Figure size 640x480 with 1 Axes>"
            ],
            "image/png": "[encoded data removed]"
          },
          "metadata": {}
        }
      ]
    },
    {
      "cell_type": "markdown",
      "source": [
        "Inference:"
      ],
      "metadata": {
        "id": "TYkJ-MEA1XTm"
      }
    },
    {
      "cell_type": "code",
      "source": [
        "test_image = image.load_img('/content/drive/MyDrive/X-ray dataset/chest_xray/test/NORMAL/IM-0001-0001.jpeg', target_size= input_size)\n",
        "test_image = image.img_to_array(test_image)\n",
        "test_image = np.expand_dims(test_image, axis = 0)\n",
        "result = model.predict(test_image)"
      ],
      "metadata": {
        "id": "FeTk2RZYUV1m",
        "outputId": "ede5f02d-ab82-49d4-f1ba-1271c147ca08",
        "colab": {
          "base_uri": "https://localhost:8080/"
        }
      },
      "execution_count": null,
      "outputs": [
        {
          "output_type": "stream",
          "name": "stdout",
          "text": [
            "1/1 [==============================] - 0s 195ms/step\n"
          ]
        }
      ]
    },
    {
      "cell_type": "code",
      "source": [
        "training_set.class_indices"
      ],
      "metadata": {
        "id": "mFwqAKFvU0Kt"
      },
      "execution_count": null,
      "outputs": []
    },
    {
      "cell_type": "code",
      "source": [
        "if result [0][0] == 1:\n",
        "  prediction = 'PNEUMONIA'\n",
        "else:\n",
        "  prediction = 'NORMAL'"
      ],
      "metadata": {
        "id": "jBEmv9bqU1Go"
      },
      "execution_count": null,
      "outputs": []
    },
    {
      "cell_type": "code",
      "source": [
        "prediction"
      ],
      "metadata": {
        "id": "b8LgQgUysrFe"
      },
      "execution_count": null,
      "outputs": []
    }
  ]
}